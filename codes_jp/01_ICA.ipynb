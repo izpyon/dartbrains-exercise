{
 "cells": [
  {
   "attachments": {},
   "cell_type": "markdown",
   "metadata": {},
   "source": [
    "ICAを用いて、神経画像データのどの信号が本物の信号かを推定する。"
   ]
  },
  {
   "cell_type": "code",
   "execution_count": 1,
   "metadata": {},
   "outputs": [],
   "source": [
    "%matplotlib inline\n",
    "\n",
    "import os\n",
    "import glob\n",
    "import numpy as np\n",
    "import pandas as pd\n",
    "import matplotlib.pyplot as plt\n",
    "import seaborn as sns\n",
    "from nltools.data import Brain_Data\n",
    "from nltools.plotting import component_viewer\n",
    "\n",
    "base_dir = '/Users/hidekiizumi/myproject/Localizer/derivatives/fmriprep'\n",
    "sub = 'S01'\n",
    "\n",
    "data = Brain_Data(os.path.join(base_dir, f'sub-{sub}','func', f'sub-{sub}_task-localizer_space-MNI152NLin2009cAsym_desc-preproc_bold.nii.gz'))"
   ]
  },
  {
   "attachments": {},
   "cell_type": "markdown",
   "metadata": {},
   "source": [
    "低周波のデータを除去するため、ハイパスヒィルターをかける。さらに、ガウシアンカーネルを用いて、データを平滑化する。"
   ]
  },
  {
   "cell_type": "code",
   "execution_count": 4,
   "metadata": {},
   "outputs": [],
   "source": [
    "data = data.filter(sampling_freq=1/2.4, high_pass=1/128)\n",
    "\n",
    "data = data.smooth(6)"
   ]
  },
  {
   "attachments": {},
   "cell_type": "markdown",
   "metadata": {},
   "source": [
    "ICA : 多変量信号を、サブコンポーネントに分解する手法。信号の独立性を仮定する。"
   ]
  },
  {
   "cell_type": "code",
   "execution_count": 3,
   "metadata": {},
   "outputs": [
    {
     "name": "stderr",
     "output_type": "stream",
     "text": [
      "/Users/hidekiizumi/miniforge3/lib/python3.9/site-packages/sklearn/decomposition/_fastica.py:679: FutureWarning: Starting in v1.3, whiten=True should be specified as whiten='arbitrary-variance' (its current behaviour). This behavior is deprecated in 1.1 and will raise ValueError in 1.3.\n",
      "  self._fit(X, compute_sources=False)\n"
     ]
    }
   ],
   "source": [
    "tr = 2.4\n",
    "\n",
    "# 30個のコンポーネントを抽出\n",
    "output = data.decompose(algorithm='ica', n_components=30, axis='images', whiten=True)"
   ]
  },
  {
   "attachments": {},
   "cell_type": "markdown",
   "metadata": {},
   "source": [
    "分解した信号の可視化を行う。\n",
    "\n",
    "- プロット１：コンポーネント毎に、その位置での信号強度が得られる。時間的変化の具合は標準偏差で見られるため、可視化における標準偏差の閾値を設定することで、どこが刺激に対してよく活動しているか見やすくなる。？\n",
    "- プロット２：横軸は時間、縦軸はそのコンポーネントにおけるボクセルの信号強度。コンポーネント毎の信号強度の時間的変化を見ることができる。？\n",
    "- プロット３：一定時間間隔TR = 2.4sで観測された脳の信号強度をフーリエ変換で時間領域から周波数領域に変換し、その周波数領域でのパワーとしてプロットする。コンポーネント毎に、どの周波数帯域で活動しているかを見ることができる。周波数の可視化可能な領域は、ナイキスト周波数（サンプリング周波数の半分）で、今回は1/(2.4*2) = 0.21Hzまでであり、加えてハイパスフィルタで0.0078Hz以下の信号を除去しているため、0.0078Hzから0.21Hzまでの周波数帯域での信号強度を見ることができる。これより速い周波数で振動する信号（呼吸や心臓の拍）は、エイリアシングが発生する。"
   ]
  },
  {
   "cell_type": "code",
   "execution_count": 6,
   "metadata": {},
   "outputs": [
    {
     "data": {
      "application/vnd.jupyter.widget-view+json": {
       "model_id": "eeb00407b3b94625904dfdb2c53d33f4",
       "version_major": 2,
       "version_minor": 0
      },
      "text/plain": [
       "interactive(children=(BoundedIntText(value=0, description='Component', max=29), BoundedFloatText(value=2.0, de…"
      ]
     },
     "metadata": {},
     "output_type": "display_data"
    }
   ],
   "source": [
    "component_viewer(output, tr=2.4)"
   ]
  },
  {
   "attachments": {},
   "cell_type": "markdown",
   "metadata": {},
   "source": [
    "## 練習問題\n",
    "\n",
    "【問題】\n",
    "\n",
    "被験者s01とs02に対して、どのコンポーネントが信号で、どのコンポーネントがノイズであるかを推測してみる。また、見つけたノイズのタイプもラベル付けしてみる（例：頭部の動き、スキャナーのスパイク、心臓、呼吸など）。\n",
    "\n",
    "この判断をする際に重要だと思われる特徴は何か？空間マップは何か有用な情報を提供するか？コンポーネントの時間経過についてはどうか？それはタスクのありそうな時間経過に対応しているか。パワースペクトラムについてはどうか？\n"
   ]
  },
  {
   "attachments": {},
   "cell_type": "markdown",
   "metadata": {},
   "source": [
    "【回答】\n",
    "\n",
    "まずタスクがわからないので、解剖学的マップ見ても何もわからない。時間経過は周期的だと心拍や呼吸に関連している可能性、突然上がったり下がってたりしてるだけだと頭部の動きの可能性、などがあるが、目視で確認は正直難しい。パワースペクトラムは、以下のポイントを参考にすると幾らか役に立つ可能性あり。\n",
    "\n",
    "- 頭部の動き：一般的に周波数は非常に低い。これは、被験者がスキャナー内で一定の位置を保つことが求められ、可能な限り動かないように指導されるため。ただし、被験者が不随意に微妙に動く（例えば、呼吸や心拍に連動した微小な動き）場合があり、その周波数は呼吸や心拍と関連している可能性がある。ここではハイパスフィルタで除去したいくらい低いものと考える。\n",
    "\n",
    "- スキャナースパイク（電子的なノイズ）：多分低い\n",
    "\n",
    "- 呼吸：通常の安静時の呼吸率は大体毎分12〜20回。これをHz（1秒あたりの回数）で表すと、大体0.2〜0.33Hz。\n",
    "\n",
    "- 心臓の脈拍（心拍数）は、大人の安静時で通常は毎分60〜100回。これを秒単位に直すと、1秒間に約1〜1.67回の脈拍。これは周波数として約1〜1.67Hz。"
   ]
  },
  {
   "attachments": {},
   "cell_type": "markdown",
   "metadata": {},
   "source": [
    "### S01\n",
    "\n",
    "回答テンプレート（面倒すぎたので飛ばした）\n",
    "\n",
    "- 信号：\n",
    "- ノイズ\n",
    "  - 頭部の動き：\n",
    "  - スキャナースパイク（電子的なノイズ）：\n",
    "  - 呼吸：\n",
    "  - 心臓の脈拍："
   ]
  },
  {
   "cell_type": "code",
   "execution_count": 10,
   "metadata": {},
   "outputs": [
    {
     "name": "stderr",
     "output_type": "stream",
     "text": [
      "/Users/hidekiizumi/miniforge3/lib/python3.9/site-packages/sklearn/decomposition/_fastica.py:679: FutureWarning: Starting in v1.3, whiten=True should be specified as whiten='arbitrary-variance' (its current behaviour). This behavior is deprecated in 1.1 and will raise ValueError in 1.3.\n",
      "  self._fit(X, compute_sources=False)\n"
     ]
    },
    {
     "data": {
      "application/vnd.jupyter.widget-view+json": {
       "model_id": "7ff4508ebb574d5282c3c96b636adbf1",
       "version_major": 2,
       "version_minor": 0
      },
      "text/plain": [
       "interactive(children=(BoundedIntText(value=0, description='Component', max=29), BoundedFloatText(value=2.0, de…"
      ]
     },
     "metadata": {},
     "output_type": "display_data"
    }
   ],
   "source": [
    "sub = 'S01'\n",
    "data = Brain_Data(os.path.join(base_dir, f'sub-{sub}','func', f'sub-{sub}_task-localizer_space-MNI152NLin2009cAsym_desc-preproc_bold.nii.gz'))\n",
    "data = data.filter(sampling_freq=1/2.4, high_pass=1/128)\n",
    "data = data.smooth(6)\n",
    "tr = 2.4\n",
    "output = data.decompose(algorithm='ica', n_components=30, axis='images', whiten=True)\n",
    "\n",
    "component_viewer(output, tr=2.4)"
   ]
  },
  {
   "attachments": {},
   "cell_type": "markdown",
   "metadata": {},
   "source": [
    "### S02\n",
    "\n",
    "回答テンプレート（面倒すぎたので飛ばした）\n",
    "\n",
    "- 信号：\n",
    "- ノイズ\n",
    "  - 頭部の動き：\n",
    "  - スキャナースパイク（電子的なノイズ）：\n",
    "  - 呼吸：\n",
    "  - 心臓の脈拍："
   ]
  },
  {
   "cell_type": "code",
   "execution_count": 7,
   "metadata": {},
   "outputs": [
    {
     "name": "stderr",
     "output_type": "stream",
     "text": [
      "/Users/hidekiizumi/miniforge3/lib/python3.9/site-packages/sklearn/decomposition/_fastica.py:679: FutureWarning: Starting in v1.3, whiten=True should be specified as whiten='arbitrary-variance' (its current behaviour). This behavior is deprecated in 1.1 and will raise ValueError in 1.3.\n",
      "  self._fit(X, compute_sources=False)\n"
     ]
    },
    {
     "data": {
      "application/vnd.jupyter.widget-view+json": {
       "model_id": "0240acaac095417caa99e51cf3a33e5d",
       "version_major": 2,
       "version_minor": 0
      },
      "text/plain": [
       "interactive(children=(BoundedIntText(value=0, description='Component', max=29), BoundedFloatText(value=2.0, de…"
      ]
     },
     "metadata": {},
     "output_type": "display_data"
    }
   ],
   "source": [
    "sub = 'S02'\n",
    "data = Brain_Data(os.path.join(base_dir, f'sub-{sub}','func', f'sub-{sub}_task-localizer_space-MNI152NLin2009cAsym_desc-preproc_bold.nii.gz'))\n",
    "data = data.filter(sampling_freq=1/2.4, high_pass=1/128)\n",
    "data = data.smooth(6)\n",
    "tr = 2.4\n",
    "output = data.decompose(algorithm='ica', n_components=30, axis='images', whiten=True)\n",
    "\n",
    "component_viewer(output, tr=2.4)"
   ]
  }
 ],
 "metadata": {
  "kernelspec": {
   "display_name": "base",
   "language": "python",
   "name": "python3"
  },
  "language_info": {
   "codemirror_mode": {
    "name": "ipython",
    "version": 3
   },
   "file_extension": ".py",
   "mimetype": "text/x-python",
   "name": "python",
   "nbconvert_exporter": "python",
   "pygments_lexer": "ipython3",
   "version": "3.9.13"
  },
  "toc": {
   "base_numbering": 1,
   "nav_menu": {},
   "number_sections": true,
   "sideBar": true,
   "skip_h1_title": false,
   "title_cell": "Table of Contents",
   "title_sidebar": "Contents",
   "toc_cell": false,
   "toc_position": {
    "height": "calc(100% - 180px)",
    "left": "10px",
    "top": "150px",
    "width": "165px"
   },
   "toc_section_display": true,
   "toc_window_display": false
  },
  "vscode": {
   "interpreter": {
    "hash": "07cfb842b9455a73d55ec9d38bab5362c3fe321b0e1c3eca7f51b6b16c31b8ca"
   }
  }
 },
 "nbformat": 4,
 "nbformat_minor": 2
}
