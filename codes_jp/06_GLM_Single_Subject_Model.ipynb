{
 "cells": [
  {
   "attachments": {},
   "cell_type": "markdown",
   "metadata": {},
   "source": [
    "リアルデータでGLM"
   ]
  },
  {
   "cell_type": "code",
   "execution_count": 1,
   "metadata": {},
   "outputs": [
    {
     "name": "stderr",
     "output_type": "stream",
     "text": [
      "/Users/hidekiizumi/miniforge3/lib/python3.9/site-packages/bids/layout/validation.py:153: UserWarning: The PipelineDescription field was superseded by GeneratedBy in BIDS 1.4.0. You can use ``pybids upgrade`` to update your derivative dataset.\n",
      "  warnings.warn(\"The PipelineDescription field was superseded \"\n"
     ]
    }
   ],
   "source": [
    "%matplotlib inline\n",
    "\n",
    "import os\n",
    "import glob\n",
    "import numpy as np\n",
    "import pandas as pd\n",
    "import matplotlib.pyplot as plt\n",
    "import seaborn as sns\n",
    "import nibabel as nib\n",
    "from nltools.file_reader import onsets_to_dm\n",
    "from nltools.stats import regress, zscore\n",
    "from nltools.data import Brain_Data, Design_Matrix\n",
    "from nltools.stats import find_spikes \n",
    "from nilearn.plotting import view_img, glass_brain, plot_stat_map\n",
    "from bids import BIDSLayout, BIDSValidator\n",
    "\n",
    "data_dir = '/Users/hidekiizumi/myproject/Localizer'\n",
    "layout = BIDSLayout(data_dir, derivatives=True)"
   ]
  },
  {
   "attachments": {},
   "cell_type": "markdown",
   "metadata": {},
   "source": [
    "前処理の例で紹介したPinel Localizerデータセットを引き続き扱うことにする。\n",
    "\n",
    "課題設定：\n",
    "- 脳のどこの領域が顔を処理するのに関わっているかを特定する\n",
    "- 顔の画像を見せた時に、脳のどの領域が活発化するかを調べる\n",
    "  - trial : 1つの顔の画像を見せる実験\n",
    "- 5 trialsでどのようになるかみてみる\n",
    "- はじめに、facesを、タイムポイントの時系列ベクトルとしてして定義する\n",
    "  - 全単位時間：200\n",
    "  - 全トライアル回数：5\n",
    "\n",
    "データセット: Pinel Localizer\n",
    "目的: 視覚知覚、指のタッピング、言語、数学など、さまざまな基本的な認知プロセスを調査する\n",
    "課題内容: 画面上のテキストを読む（視覚モーダリティ）および音声指示を聞く（聴覚モーダリティ）ことで、複数のタスクが提示される\n",
    "実験デザイン: 条件をランダムに並べ替え、迅速なイベント関連デザインの効率を最大化するために最適化されている\n",
    "実験時間: 5分のスキャンセッションで合計100試行\n",
    "データセットの詳細: タスクおよびデータセットに関する詳細は、論文およびデータセット論文を参照\n",
    "データセットの特徴: (a) 世界中の誰でも利用できる公開データセット, (b) 比較的小規模（約5分間のデータ）, (c) 異なるタイプの対照を作成するための多くのオプションがある\n",
    "使用する被験者数: 全体で94人の被験者が利用可能であるが、主に10〜20人の小規模なサブセットを使用する\n",
    "\n",
    "Pinel Localizerタスクは、視覚認識、指のタッピング、言語、数学など、いくつかの異なるタイプの基本的な認知プロセスを調査するように設計されています。いくつかの課題は、画面上のテキストを読むこと（すなわち視覚モダリティ）、また聴覚的な指示を聞くこと（すなわち聴覚モダリティ）を手がかりとしている。試行は条件によってランダムに行われ、迅速なイベント関連設計のために効率を最大化するように最適化されている。5分間のスキャニングセッションで合計100のトライアルがある。タスクの具体的な詳細については、オリジナルの[論文](https://bmcneurosci.biomedcentral.com/articles/10.1186/1471-2202-8-91)を、[データセット論文](https://doi.org/10.1016/j.neuroimage.2015.09.052)を読んでください。\n",
    "\n",
    "このデータセットは、(a)世界中の誰でも利用可能で、(b)比較的小さく（5分程度）、(c)様々な種類のコントラストを作成するための多くのオプションを提供しているので、このチュートリアルに適しています。\n",
    "\n",
    "全部で94の被験者が用意されていますが、私たちは主に10～20人の小さなサブセットだけを扱うことになります。Psych60版を受講していない方は、データのダウンロード方法についてチュートリアルをご覧ください。"
   ]
  },
  {
   "cell_type": "code",
   "execution_count": null,
   "metadata": {},
   "outputs": [],
   "source": []
  }
 ],
 "metadata": {
  "kernelspec": {
   "display_name": "Python 3.9.13 64-bit",
   "language": "python",
   "name": "python3"
  },
  "language_info": {
   "codemirror_mode": {
    "name": "ipython",
    "version": 3
   },
   "file_extension": ".py",
   "mimetype": "text/x-python",
   "name": "python",
   "nbconvert_exporter": "python",
   "pygments_lexer": "ipython3",
   "version": "3.9.13"
  },
  "toc": {
   "base_numbering": 1,
   "nav_menu": {},
   "number_sections": true,
   "sideBar": true,
   "skip_h1_title": false,
   "title_cell": "Table of Contents",
   "title_sidebar": "Contents",
   "toc_cell": false,
   "toc_position": {
    "height": "calc(100% - 180px)",
    "left": "10px",
    "top": "150px",
    "width": "248.906px"
   },
   "toc_section_display": true,
   "toc_window_display": true
  },
  "vscode": {
   "interpreter": {
    "hash": "b0fa6594d8f4cbf19f97940f81e996739fb7646882a419484c72d19e05852a7e"
   }
  }
 },
 "nbformat": 4,
 "nbformat_minor": 2
}
